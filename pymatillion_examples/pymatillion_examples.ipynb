{
 "cells": [
  {
   "cell_type": "markdown",
   "metadata": {},
   "source": [
    "### Setup the MatillionClient"
   ]
  },
  {
   "cell_type": "code",
   "execution_count": 1,
   "metadata": {},
   "outputs": [],
   "source": [
    "from pymatillion.matillion import MatillionClient\n",
    "\n",
    "base_url = '<host url>'\n",
    "username = '<username>'\n",
    "password = '<password>'\n",
    "project_group_name = '<project group name>'\n",
    "project_name = '<project name>'"
   ]
  },
  {
   "cell_type": "code",
   "execution_count": 2,
   "metadata": {},
   "outputs": [],
   "source": [
    "client = MatillionClient(\n",
    "    base_url, \n",
    "    username, \n",
    "    password, \n",
    "    project_group_name, \n",
    "    project_name\n",
    ")"
   ]
  },
  {
   "cell_type": "markdown",
   "metadata": {},
   "source": [
    "### List Project Groups"
   ]
  },
  {
   "cell_type": "code",
   "execution_count": 5,
   "metadata": {},
   "outputs": [
    {
     "data": {
      "text/plain": [
       "['Sample_Project_Group']"
      ]
     },
     "execution_count": 5,
     "metadata": {},
     "output_type": "execute_result"
    }
   ],
   "source": [
    "client.list_project_groups()"
   ]
  },
  {
   "cell_type": "markdown",
   "metadata": {},
   "source": [
    "### List Projects"
   ]
  },
  {
   "cell_type": "code",
   "execution_count": 6,
   "metadata": {
    "scrolled": true
   },
   "outputs": [
    {
     "data": {
      "text/plain": [
       "['Sample_Project']"
      ]
     },
     "execution_count": 6,
     "metadata": {},
     "output_type": "execute_result"
    }
   ],
   "source": [
    "client.list_projects()"
   ]
  },
  {
   "cell_type": "markdown",
   "metadata": {},
   "source": [
    "### List Jobs"
   ]
  },
  {
   "cell_type": "code",
   "execution_count": 7,
   "metadata": {
    "scrolled": false
   },
   "outputs": [
    {
     "data": {
      "text/plain": [
       "['airports',\n",
       " 'airports_orchestration_job',\n",
       " 'examples README',\n",
       " 'example datamodel ODS to 3NF',\n",
       " 'example datamodel 3NF setup',\n",
       " 'example datamodel load raw iot event',\n",
       " 'example datamodel views ods to data vault',\n",
       " 'example datamodel orchestrate data vault build',\n",
       " 'example datamodel raw to staging',\n",
       " 'example datamodel star schema ddl',\n",
       " 'example datamodel run 3nf to star',\n",
       " 'example datamodel xform 3nf to star part 1',\n",
       " 'example datamodel xform 3nf to star part 2',\n",
       " 'example datamodel xform 3nf to star part 3',\n",
       " 'example datamodel run dv to star',\n",
       " 'example datamodel xform dv to star part 1',\n",
       " 'example datamodel xform dv to star part 2',\n",
       " 'example datamodel xform dv to star part 3',\n",
       " 'example datamodel setup ODS',\n",
       " 'example datamodel staging to ODS',\n",
       " 'example datamodel star to aggregate',\n",
       " 'example PB2002 extract and load',\n",
       " 'example PB2002 transformation',\n",
       " 'example contingency table setup',\n",
       " 'example surrogate key pattern setup',\n",
       " 'example contingency table transform',\n",
       " 'example surrogate key pattern transform',\n",
       " 'example LAD EAF orchestration',\n",
       " 'example LAD EAF staging',\n",
       " 'example LAD EAF transform part 1',\n",
       " 'example LAD EAF transform part 2',\n",
       " 'example scd ddl',\n",
       " 'example scd extract and load',\n",
       " 'example scd ddl virtualization',\n",
       " 'example scd type 1 update',\n",
       " 'example scd type 2 update part 1',\n",
       " 'example scd type 2 update part 2',\n",
       " 'example scd update virtualized',\n",
       " 'example scd viewer',\n",
       " 'example densification extract load',\n",
       " 'example densification transformation']"
      ]
     },
     "execution_count": 7,
     "metadata": {},
     "output_type": "execute_result"
    }
   ],
   "source": [
    "client.list_jobs()"
   ]
  },
  {
   "cell_type": "markdown",
   "metadata": {},
   "source": [
    "### Run a Matillion Orchestration Job\n",
    "\n",
    "- Matillion has two types of jobs, Transformation and Orchestration.  \n",
    "- The run_job() method can trigger **Orchestration jobs only**.\n",
    "- You can wrap your Transformation jobs inside an Orchestration job and invoke them."
   ]
  },
  {
   "cell_type": "code",
   "execution_count": 3,
   "metadata": {
    "scrolled": true
   },
   "outputs": [],
   "source": [
    "response = client.run_job(job_name='airports_orchestration_job')"
   ]
  },
  {
   "cell_type": "markdown",
   "metadata": {},
   "source": [
    "### Get Task Details\n",
    "\n",
    "- Once a job has been triggered, status and details of the job can be retreived by passing its id\n",
    "- The run_job() endpoint, if successful, returns the id of the job execution."
   ]
  },
  {
   "cell_type": "code",
   "execution_count": 4,
   "metadata": {
    "scrolled": false
   },
   "outputs": [
    {
     "data": {
      "text/plain": [
       "{'id': 887,\n",
       " 'type': 'API_ORCHESTRATION',\n",
       " 'customerID': 99,\n",
       " 'groupName': 'Sample_Project_Group',\n",
       " 'projectID': 129,\n",
       " 'projectName': 'Sample_Project',\n",
       " 'versionID': 130,\n",
       " 'versionName': 'default',\n",
       " 'jobID': 860,\n",
       " 'jobName': 'airports_orchestration_job',\n",
       " 'environmentID': 133,\n",
       " 'environmentName': 'Snowflake',\n",
       " 'state': 'RUNNING',\n",
       " 'enqueuedTime': 1687994124261,\n",
       " 'startTime': 1687994124298,\n",
       " 'endTime': 0,\n",
       " 'message': None,\n",
       " 'originatorID': 's_7a31a297-d912-4e59-b1f5-ecd53d62f0a5',\n",
       " 'rowCount': 0,\n",
       " 'tasks': [{'taskID': 1,\n",
       "   'parentID': -1,\n",
       "   'type': 'VALIDATE_ORCHESTRATION',\n",
       "   'jobID': 860,\n",
       "   'jobName': 'airports_orchestration_job',\n",
       "   'jobRevision': 4,\n",
       "   'jobTimestamp': 1687993965936,\n",
       "   'componentID': 861,\n",
       "   'componentName': 'Start 0',\n",
       "   'state': 'SUCCESS',\n",
       "   'rowCount': -1,\n",
       "   'startTime': 1687994124298,\n",
       "   'endTime': 1687994124301,\n",
       "   'message': '',\n",
       "   'taskBatchID': 887},\n",
       "  {'taskID': 2,\n",
       "   'parentID': -1,\n",
       "   'type': 'VALIDATE_ORCHESTRATION',\n",
       "   'jobID': 860,\n",
       "   'jobName': 'airports_orchestration_job',\n",
       "   'jobRevision': 4,\n",
       "   'jobTimestamp': 1687993965936,\n",
       "   'componentID': 864,\n",
       "   'componentName': 'airports 0',\n",
       "   'state': 'RUNNING',\n",
       "   'rowCount': -1,\n",
       "   'startTime': 1687994124302,\n",
       "   'endTime': -1,\n",
       "   'message': '',\n",
       "   'taskBatchID': 887},\n",
       "  {'taskID': 4,\n",
       "   'parentID': 2,\n",
       "   'type': 'CREATE_VIEW',\n",
       "   'jobID': 134,\n",
       "   'jobName': 'airports',\n",
       "   'jobRevision': 2,\n",
       "   'jobTimestamp': 1687993230809,\n",
       "   'componentID': 140,\n",
       "   'componentName': 'Airport Data',\n",
       "   'state': 'RUNNING',\n",
       "   'rowCount': -1,\n",
       "   'startTime': 1687994124312,\n",
       "   'endTime': -1,\n",
       "   'message': '',\n",
       "   'taskBatchID': 887},\n",
       "  {'taskID': 3,\n",
       "   'parentID': 2,\n",
       "   'type': 'CREATE_VIEW',\n",
       "   'jobID': 134,\n",
       "   'jobName': 'airports',\n",
       "   'jobRevision': 2,\n",
       "   'jobTimestamp': 1687993230809,\n",
       "   'componentID': 141,\n",
       "   'componentName': 'US States',\n",
       "   'state': 'RUNNING',\n",
       "   'rowCount': -1,\n",
       "   'startTime': 1687994124312,\n",
       "   'endTime': -1,\n",
       "   'message': '',\n",
       "   'taskBatchID': 887}],\n",
       " 'hasHistoricJobs': True,\n",
       " 'jobNames': ['airports_orchestration_job', 'airports']}"
      ]
     },
     "execution_count": 4,
     "metadata": {},
     "output_type": "execute_result"
    }
   ],
   "source": [
    "client.get_task_details(task_id=response['id'])"
   ]
  }
 ],
 "metadata": {
  "kernelspec": {
   "display_name": "dev",
   "language": "python",
   "name": "dev"
  },
  "language_info": {
   "codemirror_mode": {
    "name": "ipython",
    "version": 3
   },
   "file_extension": ".py",
   "mimetype": "text/x-python",
   "name": "python",
   "nbconvert_exporter": "python",
   "pygments_lexer": "ipython3",
   "version": "3.10.8"
  }
 },
 "nbformat": 4,
 "nbformat_minor": 4
}
